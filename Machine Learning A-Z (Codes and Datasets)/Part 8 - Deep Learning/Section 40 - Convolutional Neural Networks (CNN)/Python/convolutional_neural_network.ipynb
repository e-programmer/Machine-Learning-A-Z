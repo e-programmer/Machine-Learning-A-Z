{
 "cells": [
  {
   "cell_type": "markdown",
   "metadata": {
    "id": "3DR-eO17geWu"
   },
   "source": [
    "# Convolutional Neural Network"
   ]
  },
  {
   "cell_type": "markdown",
   "metadata": {
    "id": "EMefrVPCg-60"
   },
   "source": [
    "### Importing the libraries"
   ]
  },
  {
   "cell_type": "code",
   "execution_count": 1,
   "metadata": {
    "id": "d32g5UA8xlzz"
   },
   "outputs": [],
   "source": [
    "import tensorflow as tf\n",
    "from keras.preprocessing.image import ImageDataGenerator"
   ]
  },
  {
   "cell_type": "markdown",
   "metadata": {
    "id": "oxQxCBWyoGPE"
   },
   "source": [
    "## Part 1 - Data Preprocessing"
   ]
  },
  {
   "cell_type": "markdown",
   "metadata": {
    "id": "MvE-heJNo3GG"
   },
   "source": [
    "### Preprocessing the Training set"
   ]
  },
  {
   "cell_type": "code",
   "execution_count": 5,
   "metadata": {
    "id": "Ewj3uIuYxwfS"
   },
   "outputs": [
    {
     "name": "stdout",
     "output_type": "stream",
     "text": [
      "Found 8000 images belonging to 2 classes.\n"
     ]
    }
   ],
   "source": [
    "train_datagen= ImageDataGenerator(\n",
    "    rescale= 1./255,\n",
    "    shear_range=0.2,\n",
    "    zoom_range=0.2,\n",
    "    horizontal_flip= True\n",
    ")\n",
    "training_set= train_datagen.flow_from_directory(\n",
    "    'dataset/training_set',\n",
    "    target_size= (64,64),\n",
    "    batch_size= 32,\n",
    "    class_mode='binary'\n",
    ")"
   ]
  },
  {
   "cell_type": "markdown",
   "metadata": {
    "id": "mrCMmGw9pHys"
   },
   "source": [
    "### Preprocessing the Test set"
   ]
  },
  {
   "cell_type": "code",
   "execution_count": 6,
   "metadata": {
    "id": "0qnBWRDXyRlN"
   },
   "outputs": [
    {
     "name": "stdout",
     "output_type": "stream",
     "text": [
      "Found 2000 images belonging to 2 classes.\n"
     ]
    }
   ],
   "source": [
    "test_datagen= ImageDataGenerator(\n",
    "    rescale= 1./255.\n",
    ")\n",
    "test_set= test_datagen.flow_from_directory(\n",
    "    'dataset/test_set',\n",
    "    target_size= (64,64),\n",
    "    batch_size= 32,\n",
    "    class_mode='binary'\n",
    ")"
   ]
  },
  {
   "cell_type": "markdown",
   "metadata": {
    "id": "af8O4l90gk7B"
   },
   "source": [
    "## Part 2 - Building the CNN"
   ]
  },
  {
   "cell_type": "markdown",
   "metadata": {
    "id": "ces1gXY2lmoX"
   },
   "source": [
    "### Initialising the CNN"
   ]
  },
  {
   "cell_type": "code",
   "execution_count": 7,
   "metadata": {
    "id": "DepuKkf4yZY5"
   },
   "outputs": [],
   "source": [
    "cnn= tf.keras.models.Sequential()"
   ]
  },
  {
   "cell_type": "markdown",
   "metadata": {
    "id": "u5YJj_XMl5LF"
   },
   "source": [
    "### Step 1 - Convolution"
   ]
  },
  {
   "cell_type": "code",
   "execution_count": 8,
   "metadata": {
    "id": "7y-y08OsyeQi"
   },
   "outputs": [],
   "source": [
    "cnn.add(tf.keras.layers.Conv2D(filters=32, kernel_size=3, activation='relu', input_shape= [64,64,3]))"
   ]
  },
  {
   "cell_type": "markdown",
   "metadata": {
    "id": "tf87FpvxmNOJ"
   },
   "source": [
    "### Step 2 - Pooling"
   ]
  },
  {
   "cell_type": "code",
   "execution_count": 9,
   "metadata": {
    "id": "Td9sAlsfzRxL"
   },
   "outputs": [],
   "source": [
    "cnn.add(tf.keras.layers.MaxPool2D(pool_size=(2,2), strides=2))"
   ]
  },
  {
   "cell_type": "markdown",
   "metadata": {
    "id": "xaTOgD8rm4mU"
   },
   "source": [
    "### Adding a second convolutional layer"
   ]
  },
  {
   "cell_type": "code",
   "execution_count": 10,
   "metadata": {
    "id": "pq_ByRqJzotI"
   },
   "outputs": [],
   "source": [
    "cnn.add(tf.keras.layers.Conv2D(filters=32, kernel_size=3, activation='relu'))\n",
    "cnn.add(tf.keras.layers.MaxPool2D(pool_size=(2,2), strides=2))"
   ]
  },
  {
   "cell_type": "markdown",
   "metadata": {
    "id": "tmiEuvTunKfk"
   },
   "source": [
    "### Step 3 - Flattening"
   ]
  },
  {
   "cell_type": "code",
   "execution_count": 11,
   "metadata": {
    "id": "xtQVIA8azsjD"
   },
   "outputs": [],
   "source": [
    "cnn.add(tf.keras.layers.Flatten())"
   ]
  },
  {
   "cell_type": "markdown",
   "metadata": {
    "id": "dAoSECOm203v"
   },
   "source": [
    "### Step 4 - Full Connection"
   ]
  },
  {
   "cell_type": "code",
   "execution_count": 12,
   "metadata": {
    "id": "Af9f4dZvz2Q5"
   },
   "outputs": [],
   "source": [
    "cnn.add(tf.keras.layers.Dense(units=128, activation='relu'))"
   ]
  },
  {
   "cell_type": "markdown",
   "metadata": {
    "id": "yTldFvbX28Na"
   },
   "source": [
    "### Step 5 - Output Layer"
   ]
  },
  {
   "cell_type": "code",
   "execution_count": 13,
   "metadata": {
    "id": "09SQ-FFhz_tm"
   },
   "outputs": [],
   "source": [
    "cnn.add(tf.keras.layers.Dense(units=1, activation='sigmoid'))"
   ]
  },
  {
   "cell_type": "markdown",
   "metadata": {
    "id": "D6XkI90snSDl"
   },
   "source": [
    "## Part 3 - Training the CNN"
   ]
  },
  {
   "cell_type": "markdown",
   "metadata": {
    "id": "vfrFQACEnc6i"
   },
   "source": [
    "### Compiling the CNN"
   ]
  },
  {
   "cell_type": "code",
   "execution_count": 14,
   "metadata": {
    "id": "S1w7_ppq0EuY"
   },
   "outputs": [],
   "source": [
    "cnn.compile(optimizer= 'adam', loss= 'binary_crossentropy', metrics= 'accuracy')"
   ]
  },
  {
   "cell_type": "markdown",
   "metadata": {
    "id": "ehS-v3MIpX2h"
   },
   "source": [
    "### Training the CNN on the Training set and evaluating it on the Test set"
   ]
  },
  {
   "cell_type": "code",
   "execution_count": 15,
   "metadata": {
    "id": "iuTfGCLY1bBJ"
   },
   "outputs": [
    {
     "name": "stdout",
     "output_type": "stream",
     "text": [
      "Epoch 1/25\n",
      "250/250 [==============================] - 25s 100ms/step - loss: 0.6753 - accuracy: 0.5741 - val_loss: 0.6428 - val_accuracy: 0.6540\n",
      "Epoch 2/25\n",
      "250/250 [==============================] - 25s 101ms/step - loss: 0.6046 - accuracy: 0.6697 - val_loss: 0.6150 - val_accuracy: 0.6490\n",
      "Epoch 3/25\n",
      "250/250 [==============================] - 25s 101ms/step - loss: 0.5654 - accuracy: 0.7080 - val_loss: 0.5449 - val_accuracy: 0.7420\n",
      "Epoch 4/25\n",
      "250/250 [==============================] - 25s 101ms/step - loss: 0.5404 - accuracy: 0.7311 - val_loss: 0.5490 - val_accuracy: 0.7395\n",
      "Epoch 5/25\n",
      "250/250 [==============================] - 25s 101ms/step - loss: 0.5033 - accuracy: 0.7541 - val_loss: 0.5164 - val_accuracy: 0.7610\n",
      "Epoch 6/25\n",
      "250/250 [==============================] - 25s 101ms/step - loss: 0.4872 - accuracy: 0.7664 - val_loss: 0.5568 - val_accuracy: 0.7255\n",
      "Epoch 7/25\n",
      "250/250 [==============================] - 25s 100ms/step - loss: 0.4599 - accuracy: 0.7810 - val_loss: 0.4994 - val_accuracy: 0.7590\n",
      "Epoch 8/25\n",
      "250/250 [==============================] - 25s 101ms/step - loss: 0.4517 - accuracy: 0.7881 - val_loss: 0.4842 - val_accuracy: 0.7785\n",
      "Epoch 9/25\n",
      "250/250 [==============================] - 25s 101ms/step - loss: 0.4458 - accuracy: 0.7895 - val_loss: 0.4608 - val_accuracy: 0.7810\n",
      "Epoch 10/25\n",
      "250/250 [==============================] - 25s 101ms/step - loss: 0.4319 - accuracy: 0.7966 - val_loss: 0.4998 - val_accuracy: 0.7830\n",
      "Epoch 11/25\n",
      "250/250 [==============================] - 25s 100ms/step - loss: 0.4182 - accuracy: 0.8014 - val_loss: 0.4563 - val_accuracy: 0.7980\n",
      "Epoch 12/25\n",
      "250/250 [==============================] - 26s 102ms/step - loss: 0.3988 - accuracy: 0.8145 - val_loss: 0.5825 - val_accuracy: 0.7390\n",
      "Epoch 13/25\n",
      "250/250 [==============================] - 26s 102ms/step - loss: 0.3938 - accuracy: 0.8179 - val_loss: 0.4653 - val_accuracy: 0.7875\n",
      "Epoch 14/25\n",
      "250/250 [==============================] - 25s 101ms/step - loss: 0.3832 - accuracy: 0.8253 - val_loss: 0.4552 - val_accuracy: 0.7935\n",
      "Epoch 15/25\n",
      "250/250 [==============================] - 25s 101ms/step - loss: 0.3670 - accuracy: 0.8369 - val_loss: 0.4740 - val_accuracy: 0.7930\n",
      "Epoch 16/25\n",
      "250/250 [==============================] - 25s 101ms/step - loss: 0.3560 - accuracy: 0.8428 - val_loss: 0.4704 - val_accuracy: 0.7980\n",
      "Epoch 17/25\n",
      "250/250 [==============================] - 25s 101ms/step - loss: 0.3481 - accuracy: 0.8472 - val_loss: 0.4783 - val_accuracy: 0.7945\n",
      "Epoch 18/25\n",
      "250/250 [==============================] - 25s 101ms/step - loss: 0.3371 - accuracy: 0.8516 - val_loss: 0.4956 - val_accuracy: 0.8030\n",
      "Epoch 19/25\n",
      "250/250 [==============================] - 25s 101ms/step - loss: 0.3213 - accuracy: 0.8616 - val_loss: 0.5467 - val_accuracy: 0.7925\n",
      "Epoch 20/25\n",
      "250/250 [==============================] - 25s 101ms/step - loss: 0.3168 - accuracy: 0.8586 - val_loss: 0.4717 - val_accuracy: 0.8035\n",
      "Epoch 21/25\n",
      "250/250 [==============================] - 25s 101ms/step - loss: 0.2982 - accuracy: 0.8705 - val_loss: 0.5638 - val_accuracy: 0.7745\n",
      "Epoch 22/25\n",
      "250/250 [==============================] - 25s 101ms/step - loss: 0.2902 - accuracy: 0.8736 - val_loss: 0.5159 - val_accuracy: 0.8100\n",
      "Epoch 23/25\n",
      "250/250 [==============================] - 25s 101ms/step - loss: 0.2771 - accuracy: 0.8802 - val_loss: 0.5444 - val_accuracy: 0.7975\n",
      "Epoch 24/25\n",
      "250/250 [==============================] - 25s 101ms/step - loss: 0.2708 - accuracy: 0.8844 - val_loss: 0.6094 - val_accuracy: 0.7760\n",
      "Epoch 25/25\n",
      "250/250 [==============================] - 25s 101ms/step - loss: 0.2657 - accuracy: 0.8909 - val_loss: 0.5288 - val_accuracy: 0.8090\n"
     ]
    },
    {
     "data": {
      "text/plain": [
       "<keras.callbacks.History at 0x1b03311d8a0>"
      ]
     },
     "execution_count": 15,
     "metadata": {},
     "output_type": "execute_result"
    }
   ],
   "source": [
    "cnn.fit(x=training_set, validation_data= test_set, epochs=25)"
   ]
  },
  {
   "cell_type": "markdown",
   "metadata": {
    "id": "U3PZasO0006Z"
   },
   "source": [
    "## Part 4 - Making a single prediction"
   ]
  },
  {
   "cell_type": "code",
   "execution_count": 19,
   "metadata": {
    "id": "UsRXqNut1lQT"
   },
   "outputs": [
    {
     "name": "stdout",
     "output_type": "stream",
     "text": [
      "1/1 [==============================] - 0s 94ms/step\n",
      "Dog\n"
     ]
    }
   ],
   "source": [
    "import numpy as np\n",
    "from keras import utils\n",
    "test_image= utils.load_img('dataset/single_prediction/cat_or_dog_1.jpg', target_size= (64,64))\n",
    "test_image= utils.img_to_array(test_image)\n",
    "test_image= np.expand_dims(test_image, axis=0)\n",
    "result= cnn.predict(test_image)\n",
    "if result[0][0]==1:\n",
    "  print('Dog')\n",
    "else:\n",
    "  print('Cat')"
   ]
  },
  {
   "cell_type": "code",
   "execution_count": null,
   "metadata": {},
   "outputs": [],
   "source": []
  }
 ],
 "metadata": {
  "colab": {
   "collapsed_sections": [],
   "name": "Copy of convolutional_neural_network.ipynb",
   "provenance": []
  },
  "kernelspec": {
   "display_name": "Python 3 (ipykernel)",
   "language": "python",
   "name": "python3"
  },
  "language_info": {
   "codemirror_mode": {
    "name": "ipython",
    "version": 3
   },
   "file_extension": ".py",
   "mimetype": "text/x-python",
   "name": "python",
   "nbconvert_exporter": "python",
   "pygments_lexer": "ipython3",
   "version": "3.10.2"
  }
 },
 "nbformat": 4,
 "nbformat_minor": 4
}
